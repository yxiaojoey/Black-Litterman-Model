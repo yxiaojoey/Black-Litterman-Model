{
 "cells": [
  {
   "cell_type": "code",
   "execution_count": 126,
   "source": [
    "import pandas as pd\n",
    "import numpy as np\n",
    "import matplotlib.pyplot as plt\n",
    "import pypfopt as pyp\n",
    "import seaborn as sns\n",
    "import datetime\n",
    "import yfinance as yf\n",
    "idx = pd.IndexSlice\n",
    "\n",
    "from pypfopt.black_litterman import BlackLittermanModel\n",
    "from pypfopt import black_litterman, risk_models"
   ],
   "outputs": [],
   "metadata": {}
  },
  {
   "cell_type": "code",
   "execution_count": 127,
   "source": [
    "data = pd.read_csv('market prices.csv',index_col = 0)\n",
    "market_cap = pd.read_csv('mcap.csv')\n",
    "\n",
    "market_prices = pd.DataFrame(data)\n",
    "mcap = pd.DataFrame(market_cap)\n",
    "\n",
    "mcap.head()"
   ],
   "outputs": [
    {
     "output_type": "execute_result",
     "data": {
      "text/html": [
       "<div>\n",
       "<style scoped>\n",
       "    .dataframe tbody tr th:only-of-type {\n",
       "        vertical-align: middle;\n",
       "    }\n",
       "\n",
       "    .dataframe tbody tr th {\n",
       "        vertical-align: top;\n",
       "    }\n",
       "\n",
       "    .dataframe thead th {\n",
       "        text-align: right;\n",
       "    }\n",
       "</style>\n",
       "<table border=\"1\" class=\"dataframe\">\n",
       "  <thead>\n",
       "    <tr style=\"text-align: right;\">\n",
       "      <th></th>\n",
       "      <th>Tickers</th>\n",
       "      <th>Market Cap</th>\n",
       "    </tr>\n",
       "  </thead>\n",
       "  <tbody>\n",
       "    <tr>\n",
       "      <th>0</th>\n",
       "      <td>医药生物</td>\n",
       "      <td>20492</td>\n",
       "    </tr>\n",
       "    <tr>\n",
       "      <th>1</th>\n",
       "      <td>电子</td>\n",
       "      <td>18290</td>\n",
       "    </tr>\n",
       "    <tr>\n",
       "      <th>2</th>\n",
       "      <td>银行</td>\n",
       "      <td>25943</td>\n",
       "    </tr>\n",
       "    <tr>\n",
       "      <th>3</th>\n",
       "      <td>食品饮料</td>\n",
       "      <td>15468</td>\n",
       "    </tr>\n",
       "    <tr>\n",
       "      <th>4</th>\n",
       "      <td>计算机</td>\n",
       "      <td>11907</td>\n",
       "    </tr>\n",
       "  </tbody>\n",
       "</table>\n",
       "</div>"
      ],
      "text/plain": [
       "  Tickers  Market Cap\n",
       "0    医药生物       20492\n",
       "1      电子       18290\n",
       "2      银行       25943\n",
       "3    食品饮料       15468\n",
       "4     计算机       11907"
      ]
     },
     "metadata": {},
     "execution_count": 127
    }
   ],
   "metadata": {}
  },
  {
   "cell_type": "code",
   "execution_count": 128,
   "source": [
    "#create market cap dict\n",
    "mcap_dict = {ticker[:] : cap for ticker, cap in zip(mcap['Tickers'].values, mcap['Market Cap'].values)}\n",
    "print(mcap_dict)"
   ],
   "outputs": [
    {
     "output_type": "stream",
     "name": "stdout",
     "text": [
      "{'医药生物': 20492, '电子': 18290, '银行': 25943, '食品饮料': 15468, '计算机': 11907, '房地产': 11038, '传媒': 8205, '家用电器': 7948, '电气设备': 8448, '汽车': 6812}\n"
     ]
    }
   ],
   "metadata": {}
  },
  {
   "cell_type": "code",
   "execution_count": 129,
   "source": [
    "sample_cov = pyp.risk_models.sample_cov(market_prices, returns_data=False, frequency=252, log_returns=False)\n",
    "print(sample_cov)"
   ],
   "outputs": [
    {
     "output_type": "stream",
     "name": "stdout",
     "text": [
      "          医药生物        电子        银行      食品饮料       计算机       房地产        传媒  \\\n",
      "医药生物  0.050924  0.050241  0.018146  0.043505  0.053381  0.035425  0.044975   \n",
      "电子    0.050241  0.094725  0.022412  0.044142  0.090021  0.041912  0.066369   \n",
      "银行    0.018146  0.022412  0.030207  0.022931  0.022169  0.025644  0.019619   \n",
      "食品饮料  0.043505  0.044142  0.022931  0.068120  0.039197  0.034490  0.034046   \n",
      "计算机   0.053381  0.090021  0.022169  0.039197  0.116315  0.047211  0.076649   \n",
      "房地产   0.035425  0.041912  0.025644  0.034490  0.047211  0.050827  0.042104   \n",
      "传媒    0.044975  0.066369  0.019619  0.034046  0.076649  0.042104  0.075479   \n",
      "家用电器  0.041855  0.048374  0.026693  0.044260  0.051083  0.042412  0.040846   \n",
      "电气设备  0.039712  0.061900  0.019600  0.033343  0.069028  0.039635  0.053652   \n",
      "汽车    0.040663  0.054501  0.022140  0.035903  0.058657  0.039042  0.046238   \n",
      "\n",
      "          家用电器      电气设备        汽车  \n",
      "医药生物  0.041855  0.039712  0.040663  \n",
      "电子    0.048374  0.061900  0.054501  \n",
      "银行    0.026693  0.019600  0.022140  \n",
      "食品饮料  0.044260  0.033343  0.035903  \n",
      "计算机   0.051083  0.069028  0.058657  \n",
      "房地产   0.042412  0.039635  0.039042  \n",
      "传媒    0.040846  0.053652  0.046238  \n",
      "家用电器  0.063485  0.043816  0.044354  \n",
      "电气设备  0.043816  0.062938  0.043852  \n",
      "汽车    0.044354  0.043852  0.057140  \n"
     ]
    }
   ],
   "metadata": {}
  },
  {
   "cell_type": "code",
   "execution_count": 130,
   "source": [
    "#风险厌恶 delta\n",
    "prices = pd.read_csv('中证500.csv')\n",
    "prices = pd.DataFrame(prices)\n",
    "prices['prices'] = prices['prices'].astype(float)\n",
    "prices['date'] = pd.to_datetime(prices['date'])\n",
    "prices.set_index('date', inplace=True)\n",
    "prices"
   ],
   "outputs": [
    {
     "output_type": "execute_result",
     "data": {
      "text/html": [
       "<div>\n",
       "<style scoped>\n",
       "    .dataframe tbody tr th:only-of-type {\n",
       "        vertical-align: middle;\n",
       "    }\n",
       "\n",
       "    .dataframe tbody tr th {\n",
       "        vertical-align: top;\n",
       "    }\n",
       "\n",
       "    .dataframe thead th {\n",
       "        text-align: right;\n",
       "    }\n",
       "</style>\n",
       "<table border=\"1\" class=\"dataframe\">\n",
       "  <thead>\n",
       "    <tr style=\"text-align: right;\">\n",
       "      <th></th>\n",
       "      <th>prices</th>\n",
       "    </tr>\n",
       "    <tr>\n",
       "      <th>date</th>\n",
       "      <th></th>\n",
       "    </tr>\n",
       "  </thead>\n",
       "  <tbody>\n",
       "    <tr>\n",
       "      <th>2019-01-02</th>\n",
       "      <td>4131.9567</td>\n",
       "    </tr>\n",
       "    <tr>\n",
       "      <th>2019-01-03</th>\n",
       "      <td>4112.8070</td>\n",
       "    </tr>\n",
       "    <tr>\n",
       "      <th>2019-01-04</th>\n",
       "      <td>4210.8786</td>\n",
       "    </tr>\n",
       "    <tr>\n",
       "      <th>2019-01-07</th>\n",
       "      <td>4288.3234</td>\n",
       "    </tr>\n",
       "    <tr>\n",
       "      <th>2019-01-08</th>\n",
       "      <td>4277.2967</td>\n",
       "    </tr>\n",
       "    <tr>\n",
       "      <th>...</th>\n",
       "      <td>...</td>\n",
       "    </tr>\n",
       "    <tr>\n",
       "      <th>2019-12-25</th>\n",
       "      <td>5183.0986</td>\n",
       "    </tr>\n",
       "    <tr>\n",
       "      <th>2019-12-26</th>\n",
       "      <td>5219.1404</td>\n",
       "    </tr>\n",
       "    <tr>\n",
       "      <th>2019-12-27</th>\n",
       "      <td>5179.1929</td>\n",
       "    </tr>\n",
       "    <tr>\n",
       "      <th>2019-12-30</th>\n",
       "      <td>5241.9383</td>\n",
       "    </tr>\n",
       "    <tr>\n",
       "      <th>2019-12-31</th>\n",
       "      <td>5267.6622</td>\n",
       "    </tr>\n",
       "  </tbody>\n",
       "</table>\n",
       "<p>244 rows × 1 columns</p>\n",
       "</div>"
      ],
      "text/plain": [
       "               prices\n",
       "date                 \n",
       "2019-01-02  4131.9567\n",
       "2019-01-03  4112.8070\n",
       "2019-01-04  4210.8786\n",
       "2019-01-07  4288.3234\n",
       "2019-01-08  4277.2967\n",
       "...               ...\n",
       "2019-12-25  5183.0986\n",
       "2019-12-26  5219.1404\n",
       "2019-12-27  5179.1929\n",
       "2019-12-30  5241.9383\n",
       "2019-12-31  5267.6622\n",
       "\n",
       "[244 rows x 1 columns]"
      ]
     },
     "metadata": {},
     "execution_count": 130
    }
   ],
   "metadata": {}
  },
  {
   "cell_type": "code",
   "execution_count": 131,
   "source": [
    "S = pyp.risk_models.CovarianceShrinkage(market_prices).ledoit_wolf()\n",
    "print(S)"
   ],
   "outputs": [
    {
     "output_type": "stream",
     "name": "stdout",
     "text": [
      "          医药生物        电子        银行      食品饮料       计算机       房地产        传媒  \\\n",
      "医药生物  0.051225  0.048440  0.017495  0.041945  0.051468  0.034155  0.043363   \n",
      "电子    0.048440  0.093456  0.021608  0.042559  0.086794  0.040409  0.063990   \n",
      "银行    0.017495  0.021608  0.031251  0.022109  0.021374  0.024724  0.018916   \n",
      "食品饮料  0.041945  0.042559  0.022109  0.067804  0.037792  0.033253  0.032825   \n",
      "计算机   0.051468  0.086794  0.021374  0.037792  0.114272  0.045519  0.073901   \n",
      "房地产   0.034155  0.040409  0.024724  0.033253  0.045519  0.051131  0.040595   \n",
      "传媒    0.043363  0.063990  0.018916  0.032825  0.073901  0.040595  0.074900   \n",
      "家用电器  0.040354  0.046640  0.025736  0.042673  0.049252  0.040891  0.039382   \n",
      "电气设备  0.038288  0.059681  0.018898  0.032148  0.066554  0.038214  0.051729   \n",
      "汽车    0.039205  0.052547  0.021346  0.034616  0.056554  0.037642  0.044581   \n",
      "\n",
      "          家用电器      电气设备        汽车  \n",
      "医药生物  0.040354  0.038288  0.039205  \n",
      "电子    0.046640  0.059681  0.052547  \n",
      "银行    0.025736  0.018898  0.021346  \n",
      "食品饮料  0.042673  0.032148  0.034616  \n",
      "计算机   0.049252  0.066554  0.056554  \n",
      "房地产   0.040891  0.038214  0.037642  \n",
      "传媒    0.039382  0.051729  0.044581  \n",
      "家用电器  0.063336  0.042245  0.042764  \n",
      "电气设备  0.042245  0.062808  0.042280  \n",
      "汽车    0.042764  0.042280  0.057218  \n"
     ]
    }
   ],
   "metadata": {}
  },
  {
   "cell_type": "code",
   "execution_count": 132,
   "source": [
    "delta = pyp.black_litterman.market_implied_risk_aversion(prices,risk_free_rate=0.05)\n",
    "print(delta)"
   ],
   "outputs": [
    {
     "output_type": "stream",
     "name": "stdout",
     "text": [
      "prices    4.183981\n",
      "dtype: float64\n"
     ]
    }
   ],
   "metadata": {}
  },
  {
   "cell_type": "code",
   "execution_count": 137,
   "source": [
    "market_prior = black_litterman.market_implied_prior_returns(mcap_dict, delta,S)\n",
    "market_prior.name = 'Prior'\n",
    "print(market_prior)"
   ],
   "outputs": [
    {
     "output_type": "stream",
     "name": "stdout",
     "text": [
      "prices   NaN\n",
      "传媒       NaN\n",
      "医药生物     NaN\n",
      "家用电器     NaN\n",
      "房地产      NaN\n",
      "汽车       NaN\n",
      "电子       NaN\n",
      "电气设备     NaN\n",
      "计算机      NaN\n",
      "银行       NaN\n",
      "食品饮料     NaN\n",
      "Name: Prior, dtype: float64\n"
     ]
    }
   ],
   "metadata": {}
  },
  {
   "cell_type": "code",
   "execution_count": 134,
   "source": [
    "#heatmap of mcaps\n",
    "\n",
    "fig, ax = plt.subplots(figsize=(10,8))\n",
    "sns.heatmap(market_prices.pct_change().corr(method ='spearman'), ax=ax, cmap='coolwarm', annot=True, fmt=\".2f\")\n",
    "ax.set_title('Assets Correlation Matrix')\n"
   ],
   "outputs": [
    {
     "output_type": "stream",
     "name": "stderr",
     "text": [
      "/Library/Frameworks/Python.framework/Versions/3.9/lib/python3.9/site-packages/matplotlib/backends/backend_agg.py:240: RuntimeWarning: Glyph 21307 missing from current font.\n",
      "  font.set_text(s, 0.0, flags=flags)\n",
      "/Library/Frameworks/Python.framework/Versions/3.9/lib/python3.9/site-packages/matplotlib/backends/backend_agg.py:240: RuntimeWarning: Glyph 33647 missing from current font.\n",
      "  font.set_text(s, 0.0, flags=flags)\n",
      "/Library/Frameworks/Python.framework/Versions/3.9/lib/python3.9/site-packages/matplotlib/backends/backend_agg.py:240: RuntimeWarning: Glyph 29983 missing from current font.\n",
      "  font.set_text(s, 0.0, flags=flags)\n",
      "/Library/Frameworks/Python.framework/Versions/3.9/lib/python3.9/site-packages/matplotlib/backends/backend_agg.py:240: RuntimeWarning: Glyph 29289 missing from current font.\n",
      "  font.set_text(s, 0.0, flags=flags)\n",
      "/Library/Frameworks/Python.framework/Versions/3.9/lib/python3.9/site-packages/matplotlib/backends/backend_agg.py:240: RuntimeWarning: Glyph 30005 missing from current font.\n",
      "  font.set_text(s, 0.0, flags=flags)\n",
      "/Library/Frameworks/Python.framework/Versions/3.9/lib/python3.9/site-packages/matplotlib/backends/backend_agg.py:240: RuntimeWarning: Glyph 23376 missing from current font.\n",
      "  font.set_text(s, 0.0, flags=flags)\n",
      "/Library/Frameworks/Python.framework/Versions/3.9/lib/python3.9/site-packages/matplotlib/backends/backend_agg.py:240: RuntimeWarning: Glyph 38134 missing from current font.\n",
      "  font.set_text(s, 0.0, flags=flags)\n",
      "/Library/Frameworks/Python.framework/Versions/3.9/lib/python3.9/site-packages/matplotlib/backends/backend_agg.py:240: RuntimeWarning: Glyph 34892 missing from current font.\n",
      "  font.set_text(s, 0.0, flags=flags)\n",
      "/Library/Frameworks/Python.framework/Versions/3.9/lib/python3.9/site-packages/matplotlib/backends/backend_agg.py:240: RuntimeWarning: Glyph 39135 missing from current font.\n",
      "  font.set_text(s, 0.0, flags=flags)\n",
      "/Library/Frameworks/Python.framework/Versions/3.9/lib/python3.9/site-packages/matplotlib/backends/backend_agg.py:240: RuntimeWarning: Glyph 21697 missing from current font.\n",
      "  font.set_text(s, 0.0, flags=flags)\n",
      "/Library/Frameworks/Python.framework/Versions/3.9/lib/python3.9/site-packages/matplotlib/backends/backend_agg.py:240: RuntimeWarning: Glyph 39278 missing from current font.\n",
      "  font.set_text(s, 0.0, flags=flags)\n",
      "/Library/Frameworks/Python.framework/Versions/3.9/lib/python3.9/site-packages/matplotlib/backends/backend_agg.py:240: RuntimeWarning: Glyph 26009 missing from current font.\n",
      "  font.set_text(s, 0.0, flags=flags)\n",
      "/Library/Frameworks/Python.framework/Versions/3.9/lib/python3.9/site-packages/matplotlib/backends/backend_agg.py:240: RuntimeWarning: Glyph 35745 missing from current font.\n",
      "  font.set_text(s, 0.0, flags=flags)\n",
      "/Library/Frameworks/Python.framework/Versions/3.9/lib/python3.9/site-packages/matplotlib/backends/backend_agg.py:240: RuntimeWarning: Glyph 31639 missing from current font.\n",
      "  font.set_text(s, 0.0, flags=flags)\n",
      "/Library/Frameworks/Python.framework/Versions/3.9/lib/python3.9/site-packages/matplotlib/backends/backend_agg.py:240: RuntimeWarning: Glyph 26426 missing from current font.\n",
      "  font.set_text(s, 0.0, flags=flags)\n",
      "/Library/Frameworks/Python.framework/Versions/3.9/lib/python3.9/site-packages/matplotlib/backends/backend_agg.py:240: RuntimeWarning: Glyph 25151 missing from current font.\n",
      "  font.set_text(s, 0.0, flags=flags)\n",
      "/Library/Frameworks/Python.framework/Versions/3.9/lib/python3.9/site-packages/matplotlib/backends/backend_agg.py:240: RuntimeWarning: Glyph 22320 missing from current font.\n",
      "  font.set_text(s, 0.0, flags=flags)\n",
      "/Library/Frameworks/Python.framework/Versions/3.9/lib/python3.9/site-packages/matplotlib/backends/backend_agg.py:240: RuntimeWarning: Glyph 20135 missing from current font.\n",
      "  font.set_text(s, 0.0, flags=flags)\n",
      "/Library/Frameworks/Python.framework/Versions/3.9/lib/python3.9/site-packages/matplotlib/backends/backend_agg.py:240: RuntimeWarning: Glyph 20256 missing from current font.\n",
      "  font.set_text(s, 0.0, flags=flags)\n",
      "/Library/Frameworks/Python.framework/Versions/3.9/lib/python3.9/site-packages/matplotlib/backends/backend_agg.py:240: RuntimeWarning: Glyph 23186 missing from current font.\n",
      "  font.set_text(s, 0.0, flags=flags)\n",
      "/Library/Frameworks/Python.framework/Versions/3.9/lib/python3.9/site-packages/matplotlib/backends/backend_agg.py:240: RuntimeWarning: Glyph 23478 missing from current font.\n",
      "  font.set_text(s, 0.0, flags=flags)\n",
      "/Library/Frameworks/Python.framework/Versions/3.9/lib/python3.9/site-packages/matplotlib/backends/backend_agg.py:240: RuntimeWarning: Glyph 29992 missing from current font.\n",
      "  font.set_text(s, 0.0, flags=flags)\n",
      "/Library/Frameworks/Python.framework/Versions/3.9/lib/python3.9/site-packages/matplotlib/backends/backend_agg.py:240: RuntimeWarning: Glyph 22120 missing from current font.\n",
      "  font.set_text(s, 0.0, flags=flags)\n",
      "/Library/Frameworks/Python.framework/Versions/3.9/lib/python3.9/site-packages/matplotlib/backends/backend_agg.py:240: RuntimeWarning: Glyph 27668 missing from current font.\n",
      "  font.set_text(s, 0.0, flags=flags)\n",
      "/Library/Frameworks/Python.framework/Versions/3.9/lib/python3.9/site-packages/matplotlib/backends/backend_agg.py:240: RuntimeWarning: Glyph 35774 missing from current font.\n",
      "  font.set_text(s, 0.0, flags=flags)\n",
      "/Library/Frameworks/Python.framework/Versions/3.9/lib/python3.9/site-packages/matplotlib/backends/backend_agg.py:240: RuntimeWarning: Glyph 22791 missing from current font.\n",
      "  font.set_text(s, 0.0, flags=flags)\n",
      "/Library/Frameworks/Python.framework/Versions/3.9/lib/python3.9/site-packages/matplotlib/backends/backend_agg.py:240: RuntimeWarning: Glyph 27773 missing from current font.\n",
      "  font.set_text(s, 0.0, flags=flags)\n",
      "/Library/Frameworks/Python.framework/Versions/3.9/lib/python3.9/site-packages/matplotlib/backends/backend_agg.py:240: RuntimeWarning: Glyph 36710 missing from current font.\n",
      "  font.set_text(s, 0.0, flags=flags)\n",
      "/Library/Frameworks/Python.framework/Versions/3.9/lib/python3.9/site-packages/matplotlib/backends/backend_agg.py:203: RuntimeWarning: Glyph 21307 missing from current font.\n",
      "  font.set_text(s, 0, flags=flags)\n",
      "/Library/Frameworks/Python.framework/Versions/3.9/lib/python3.9/site-packages/matplotlib/backends/backend_agg.py:203: RuntimeWarning: Glyph 33647 missing from current font.\n",
      "  font.set_text(s, 0, flags=flags)\n",
      "/Library/Frameworks/Python.framework/Versions/3.9/lib/python3.9/site-packages/matplotlib/backends/backend_agg.py:203: RuntimeWarning: Glyph 29983 missing from current font.\n",
      "  font.set_text(s, 0, flags=flags)\n",
      "/Library/Frameworks/Python.framework/Versions/3.9/lib/python3.9/site-packages/matplotlib/backends/backend_agg.py:203: RuntimeWarning: Glyph 29289 missing from current font.\n",
      "  font.set_text(s, 0, flags=flags)\n",
      "/Library/Frameworks/Python.framework/Versions/3.9/lib/python3.9/site-packages/matplotlib/backends/backend_agg.py:203: RuntimeWarning: Glyph 30005 missing from current font.\n",
      "  font.set_text(s, 0, flags=flags)\n",
      "/Library/Frameworks/Python.framework/Versions/3.9/lib/python3.9/site-packages/matplotlib/backends/backend_agg.py:203: RuntimeWarning: Glyph 23376 missing from current font.\n",
      "  font.set_text(s, 0, flags=flags)\n",
      "/Library/Frameworks/Python.framework/Versions/3.9/lib/python3.9/site-packages/matplotlib/backends/backend_agg.py:203: RuntimeWarning: Glyph 38134 missing from current font.\n",
      "  font.set_text(s, 0, flags=flags)\n",
      "/Library/Frameworks/Python.framework/Versions/3.9/lib/python3.9/site-packages/matplotlib/backends/backend_agg.py:203: RuntimeWarning: Glyph 34892 missing from current font.\n",
      "  font.set_text(s, 0, flags=flags)\n",
      "/Library/Frameworks/Python.framework/Versions/3.9/lib/python3.9/site-packages/matplotlib/backends/backend_agg.py:203: RuntimeWarning: Glyph 39135 missing from current font.\n",
      "  font.set_text(s, 0, flags=flags)\n",
      "/Library/Frameworks/Python.framework/Versions/3.9/lib/python3.9/site-packages/matplotlib/backends/backend_agg.py:203: RuntimeWarning: Glyph 21697 missing from current font.\n",
      "  font.set_text(s, 0, flags=flags)\n",
      "/Library/Frameworks/Python.framework/Versions/3.9/lib/python3.9/site-packages/matplotlib/backends/backend_agg.py:203: RuntimeWarning: Glyph 39278 missing from current font.\n",
      "  font.set_text(s, 0, flags=flags)\n",
      "/Library/Frameworks/Python.framework/Versions/3.9/lib/python3.9/site-packages/matplotlib/backends/backend_agg.py:203: RuntimeWarning: Glyph 26009 missing from current font.\n",
      "  font.set_text(s, 0, flags=flags)\n",
      "/Library/Frameworks/Python.framework/Versions/3.9/lib/python3.9/site-packages/matplotlib/backends/backend_agg.py:203: RuntimeWarning: Glyph 35745 missing from current font.\n",
      "  font.set_text(s, 0, flags=flags)\n",
      "/Library/Frameworks/Python.framework/Versions/3.9/lib/python3.9/site-packages/matplotlib/backends/backend_agg.py:203: RuntimeWarning: Glyph 31639 missing from current font.\n",
      "  font.set_text(s, 0, flags=flags)\n",
      "/Library/Frameworks/Python.framework/Versions/3.9/lib/python3.9/site-packages/matplotlib/backends/backend_agg.py:203: RuntimeWarning: Glyph 26426 missing from current font.\n",
      "  font.set_text(s, 0, flags=flags)\n",
      "/Library/Frameworks/Python.framework/Versions/3.9/lib/python3.9/site-packages/matplotlib/backends/backend_agg.py:203: RuntimeWarning: Glyph 25151 missing from current font.\n",
      "  font.set_text(s, 0, flags=flags)\n",
      "/Library/Frameworks/Python.framework/Versions/3.9/lib/python3.9/site-packages/matplotlib/backends/backend_agg.py:203: RuntimeWarning: Glyph 22320 missing from current font.\n",
      "  font.set_text(s, 0, flags=flags)\n",
      "/Library/Frameworks/Python.framework/Versions/3.9/lib/python3.9/site-packages/matplotlib/backends/backend_agg.py:203: RuntimeWarning: Glyph 20135 missing from current font.\n",
      "  font.set_text(s, 0, flags=flags)\n",
      "/Library/Frameworks/Python.framework/Versions/3.9/lib/python3.9/site-packages/matplotlib/backends/backend_agg.py:203: RuntimeWarning: Glyph 20256 missing from current font.\n",
      "  font.set_text(s, 0, flags=flags)\n",
      "/Library/Frameworks/Python.framework/Versions/3.9/lib/python3.9/site-packages/matplotlib/backends/backend_agg.py:203: RuntimeWarning: Glyph 23186 missing from current font.\n",
      "  font.set_text(s, 0, flags=flags)\n",
      "/Library/Frameworks/Python.framework/Versions/3.9/lib/python3.9/site-packages/matplotlib/backends/backend_agg.py:203: RuntimeWarning: Glyph 23478 missing from current font.\n",
      "  font.set_text(s, 0, flags=flags)\n",
      "/Library/Frameworks/Python.framework/Versions/3.9/lib/python3.9/site-packages/matplotlib/backends/backend_agg.py:203: RuntimeWarning: Glyph 29992 missing from current font.\n",
      "  font.set_text(s, 0, flags=flags)\n",
      "/Library/Frameworks/Python.framework/Versions/3.9/lib/python3.9/site-packages/matplotlib/backends/backend_agg.py:203: RuntimeWarning: Glyph 22120 missing from current font.\n",
      "  font.set_text(s, 0, flags=flags)\n",
      "/Library/Frameworks/Python.framework/Versions/3.9/lib/python3.9/site-packages/matplotlib/backends/backend_agg.py:203: RuntimeWarning: Glyph 27668 missing from current font.\n",
      "  font.set_text(s, 0, flags=flags)\n",
      "/Library/Frameworks/Python.framework/Versions/3.9/lib/python3.9/site-packages/matplotlib/backends/backend_agg.py:203: RuntimeWarning: Glyph 35774 missing from current font.\n",
      "  font.set_text(s, 0, flags=flags)\n",
      "/Library/Frameworks/Python.framework/Versions/3.9/lib/python3.9/site-packages/matplotlib/backends/backend_agg.py:203: RuntimeWarning: Glyph 22791 missing from current font.\n",
      "  font.set_text(s, 0, flags=flags)\n",
      "/Library/Frameworks/Python.framework/Versions/3.9/lib/python3.9/site-packages/matplotlib/backends/backend_agg.py:203: RuntimeWarning: Glyph 27773 missing from current font.\n",
      "  font.set_text(s, 0, flags=flags)\n",
      "/Library/Frameworks/Python.framework/Versions/3.9/lib/python3.9/site-packages/matplotlib/backends/backend_agg.py:203: RuntimeWarning: Glyph 36710 missing from current font.\n",
      "  font.set_text(s, 0, flags=flags)\n"
     ]
    },
    {
     "output_type": "execute_result",
     "data": {
      "text/plain": [
       "Text(0.5, 1.0, 'Assets Correlation Matrix')"
      ]
     },
     "metadata": {},
     "execution_count": 134
    },
    {
     "output_type": "display_data",
     "data": {
      "image/png": "[encoded data removed]",
      "text/plain": [
       "<Figure size 720x576 with 2 Axes>"
      ]
     },
     "metadata": {
      "needs_background": "light"
     }
    }
   ],
   "metadata": {}
  },
  {
   "cell_type": "code",
   "execution_count": 135,
   "source": [
    "P = np.array([[0,0,0,0,0,0,0,0,0,1],\n",
    "            [0,0,0,0,0,0,1,0,0,0],\n",
    "            [0,0,0,1,0,0,0,-1,0,0],\n",
    "            [0,0.5,-0.7,0,0.3,-0.3,0,0,0.2,0],\n",
    "            ])\n",
    "Q = np.array([0.06,0.04,-0.01,0.02]).reshape(-1,1)"
   ],
   "outputs": [],
   "metadata": {}
  },
  {
   "cell_type": "code",
   "execution_count": 138,
   "source": [
    "BlackLittermanModel(S,pi=market_prior, absolute_views=None,Q = Q,P=P,omega=None,view_confidences=None,tau=0.05,risk_aversion=delta.all()) \n"
   ],
   "outputs": [
    {
     "output_type": "error",
     "ename": "AssertionError",
     "evalue": "pi must have dimensions Nx1",
     "traceback": [
      "\u001b[0;31m---------------------------------------------------------------------------\u001b[0m",
      "\u001b[0;31mAssertionError\u001b[0m                            Traceback (most recent call last)",
      "\u001b[0;32m/var/folders/8r/qchgw2ns2tn_vgnrt_p3p5q80000gn/T/ipykernel_1631/3915731825.py\u001b[0m in \u001b[0;36m<module>\u001b[0;34m\u001b[0m\n\u001b[0;32m----> 1\u001b[0;31m \u001b[0mBlackLittermanModel\u001b[0m\u001b[0;34m(\u001b[0m\u001b[0mS\u001b[0m\u001b[0;34m,\u001b[0m\u001b[0mpi\u001b[0m\u001b[0;34m=\u001b[0m\u001b[0mmarket_prior\u001b[0m\u001b[0;34m,\u001b[0m \u001b[0mabsolute_views\u001b[0m\u001b[0;34m=\u001b[0m\u001b[0;32mNone\u001b[0m\u001b[0;34m,\u001b[0m\u001b[0mQ\u001b[0m \u001b[0;34m=\u001b[0m \u001b[0mQ\u001b[0m\u001b[0;34m,\u001b[0m\u001b[0mP\u001b[0m\u001b[0;34m=\u001b[0m\u001b[0mP\u001b[0m\u001b[0;34m,\u001b[0m\u001b[0momega\u001b[0m\u001b[0;34m=\u001b[0m\u001b[0;32mNone\u001b[0m\u001b[0;34m,\u001b[0m\u001b[0mview_confidences\u001b[0m\u001b[0;34m=\u001b[0m\u001b[0;32mNone\u001b[0m\u001b[0;34m,\u001b[0m\u001b[0mtau\u001b[0m\u001b[0;34m=\u001b[0m\u001b[0;36m0.05\u001b[0m\u001b[0;34m,\u001b[0m\u001b[0mrisk_aversion\u001b[0m\u001b[0;34m=\u001b[0m\u001b[0mdelta\u001b[0m\u001b[0;34m.\u001b[0m\u001b[0mall\u001b[0m\u001b[0;34m(\u001b[0m\u001b[0;34m)\u001b[0m\u001b[0;34m)\u001b[0m\u001b[0;34m\u001b[0m\u001b[0;34m\u001b[0m\u001b[0m\n\u001b[0m",
      "\u001b[0;32m/Library/Frameworks/Python.framework/Versions/3.9/lib/python3.9/site-packages/pypfopt/black_litterman.py\u001b[0m in \u001b[0;36m__init__\u001b[0;34m(self, cov_matrix, pi, absolute_views, Q, P, omega, view_confidences, tau, risk_aversion, **kwargs)\u001b[0m\n\u001b[1;32m    194\u001b[0m         \u001b[0mself\u001b[0m\u001b[0;34m.\u001b[0m\u001b[0m_set_tau\u001b[0m\u001b[0;34m(\u001b[0m\u001b[0mtau\u001b[0m\u001b[0;34m)\u001b[0m\u001b[0;34m\u001b[0m\u001b[0;34m\u001b[0m\u001b[0m\n\u001b[1;32m    195\u001b[0m         \u001b[0;31m# Make sure all dimensions work\u001b[0m\u001b[0;34m\u001b[0m\u001b[0;34m\u001b[0m\u001b[0m\n\u001b[0;32m--> 196\u001b[0;31m         \u001b[0mself\u001b[0m\u001b[0;34m.\u001b[0m\u001b[0m_check_attribute_dimensions\u001b[0m\u001b[0;34m(\u001b[0m\u001b[0;34m)\u001b[0m\u001b[0;34m\u001b[0m\u001b[0;34m\u001b[0m\u001b[0m\n\u001b[0m\u001b[1;32m    197\u001b[0m \u001b[0;34m\u001b[0m\u001b[0m\n\u001b[1;32m    198\u001b[0m         \u001b[0mself\u001b[0m\u001b[0;34m.\u001b[0m\u001b[0m_set_omega\u001b[0m\u001b[0;34m(\u001b[0m\u001b[0momega\u001b[0m\u001b[0;34m,\u001b[0m \u001b[0mview_confidences\u001b[0m\u001b[0;34m)\u001b[0m\u001b[0;34m\u001b[0m\u001b[0;34m\u001b[0m\u001b[0m\n",
      "\u001b[0;32m/Library/Frameworks/Python.framework/Versions/3.9/lib/python3.9/site-packages/pypfopt/black_litterman.py\u001b[0m in \u001b[0;36m_check_attribute_dimensions\u001b[0;34m(self)\u001b[0m\n\u001b[1;32m    338\u001b[0m         \u001b[0mN\u001b[0m \u001b[0;34m=\u001b[0m \u001b[0mself\u001b[0m\u001b[0;34m.\u001b[0m\u001b[0mn_assets\u001b[0m\u001b[0;34m\u001b[0m\u001b[0;34m\u001b[0m\u001b[0m\n\u001b[1;32m    339\u001b[0m         \u001b[0mK\u001b[0m \u001b[0;34m=\u001b[0m \u001b[0mlen\u001b[0m\u001b[0;34m(\u001b[0m\u001b[0mself\u001b[0m\u001b[0;34m.\u001b[0m\u001b[0mQ\u001b[0m\u001b[0;34m)\u001b[0m\u001b[0;34m\u001b[0m\u001b[0;34m\u001b[0m\u001b[0m\n\u001b[0;32m--> 340\u001b[0;31m         \u001b[0;32massert\u001b[0m \u001b[0mself\u001b[0m\u001b[0;34m.\u001b[0m\u001b[0mpi\u001b[0m\u001b[0;34m.\u001b[0m\u001b[0mshape\u001b[0m \u001b[0;34m==\u001b[0m \u001b[0;34m(\u001b[0m\u001b[0mN\u001b[0m\u001b[0;34m,\u001b[0m \u001b[0;36m1\u001b[0m\u001b[0;34m)\u001b[0m\u001b[0;34m,\u001b[0m \u001b[0;34m\"pi must have dimensions Nx1\"\u001b[0m\u001b[0;34m\u001b[0m\u001b[0;34m\u001b[0m\u001b[0m\n\u001b[0m\u001b[1;32m    341\u001b[0m         \u001b[0;32massert\u001b[0m \u001b[0mself\u001b[0m\u001b[0;34m.\u001b[0m\u001b[0mP\u001b[0m\u001b[0;34m.\u001b[0m\u001b[0mshape\u001b[0m \u001b[0;34m==\u001b[0m \u001b[0;34m(\u001b[0m\u001b[0mK\u001b[0m\u001b[0;34m,\u001b[0m \u001b[0mN\u001b[0m\u001b[0;34m)\u001b[0m\u001b[0;34m,\u001b[0m \u001b[0;34m\"P must have dimensions KxN\"\u001b[0m\u001b[0;34m\u001b[0m\u001b[0;34m\u001b[0m\u001b[0m\n\u001b[1;32m    342\u001b[0m         \u001b[0;32massert\u001b[0m \u001b[0mself\u001b[0m\u001b[0;34m.\u001b[0m\u001b[0mcov_matrix\u001b[0m\u001b[0;34m.\u001b[0m\u001b[0mshape\u001b[0m \u001b[0;34m==\u001b[0m \u001b[0;34m(\u001b[0m\u001b[0mN\u001b[0m\u001b[0;34m,\u001b[0m \u001b[0mN\u001b[0m\u001b[0;34m)\u001b[0m\u001b[0;34m,\u001b[0m \u001b[0;34m\"cov_matrix must have shape NxN\"\u001b[0m\u001b[0;34m\u001b[0m\u001b[0;34m\u001b[0m\u001b[0m\n",
      "\u001b[0;31mAssertionError\u001b[0m: pi must have dimensions Nx1"
     ]
    }
   ],
   "metadata": {}
  },
  {
   "cell_type": "code",
   "execution_count": null,
   "source": [],
   "outputs": [],
   "metadata": {}
  }
 ],
 "metadata": {
  "kernelspec": {
   "name": "python3",
   "display_name": "Python 3.9.7 64-bit"
  },
  "language_info": {
   "codemirror_mode": {
    "name": "ipython",
    "version": 3
   },
   "file_extension": ".py",
   "mimetype": "text/x-python",
   "name": "python",
   "nbconvert_exporter": "python",
   "pygments_lexer": "ipython3",
   "version": "3.9.7"
  },
  "interpreter": {
   "hash": "aee8b7b246df8f9039afb4144a1f6fd8d2ca17a180786b69acc140d282b71a49"
  }
 },
 "nbformat": 4,
 "nbformat_minor": 5
}